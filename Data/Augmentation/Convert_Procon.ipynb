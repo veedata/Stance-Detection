{
  "nbformat": 4,
  "nbformat_minor": 0,
  "metadata": {
    "colab": {
      "provenance": []
    },
    "kernelspec": {
      "name": "python3",
      "display_name": "Python 3"
    },
    "language_info": {
      "name": "python"
    }
  },
  "cells": [
    {
      "cell_type": "code",
      "execution_count": null,
      "metadata": {
        "colab": {
          "base_uri": "https://localhost:8080/"
        },
        "id": "98vajVvoAIqZ",
        "outputId": "97bbef7a-d05b-4176-a2d0-ea9176f146f7"
      },
      "outputs": [
        {
          "output_type": "stream",
          "name": "stdout",
          "text": [
            "Mounted at /content/drive\n"
          ]
        }
      ],
      "source": [
        "# Before you run this, make sure that the shared CSE 573: Stance Detection folder is on your My Drive tab. You can do this by right clicking on the folder and selecting \"Add shortcut to Drive\"\n",
        "from google.colab import drive\n",
        "from google.colab import files\n",
        "from tqdm.notebook import tqdm\n",
        "import pandas as pd\n",
        "import time\n",
        "\n",
        "# Mount Google Drive\n",
        "drive.mount('/content/drive', force_remount=True)\n",
        "\n",
        "# Open Procon20\n",
        "# proconfile_train = open('/content/drive/My Drive/CSE 573: Stance Detection /Datasets/Procon20/train.tsv', encoding='utf8', errors='backslashreplace')\n",
        "# procon_train = pd.read_csv(proconfile_train,header=None, sep='\\t')\n",
        "# proconfile_test = open('/content/drive/My Drive/CSE 573: Stance Detection /Datasets/Procon20/test.tsv', encoding='utf8', errors='backslashreplace')\n",
        "# procon_test = pd.read_csv(proconfile_test,header=None, sep='\\t')\n",
        "# proconfile_dev = open('/content/drive/My Drive/CSE 573: Stance Detection /Datasets/Procon20/dev.tsv', encoding='utf8', errors='backslashreplace')\n",
        "# procon_dev = pd.read_csv(proconfile_dev,header=None, sep='\\t')\n",
        "\n",
        "# data = pd.concat([procon_train, procon_test, procon_dev], ignore_index=True)\n",
        "\n",
        "# # Create a copy\n",
        "# data = data.copy()"
      ]
    },
    {
      "cell_type": "code",
      "source": [
        "proconfile_manual = open('/content/drive/My Drive/CSE 573: Stance Detection /Datasets/Procon20/procon_manually_labeled.csv', encoding='utf8', errors='backslashreplace')\n",
        "data = pd.read_csv(proconfile_manual,header=0, sep=',')"
      ],
      "metadata": {
        "id": "l1GDKH6QZygC"
      },
      "execution_count": null,
      "outputs": []
    },
    {
      "cell_type": "code",
      "source": [
        "print(data['Stance'].value_counts())\n",
        "for index, row in data.iterrows():\n",
        "    if(row['Target'].split(' ')[0] == 'Anti'):\n",
        "\n",
        "      #Take off Anti Milk\n",
        "      data.at[index, 'Target'] = data.at[index, 'Target'][5:]\n",
        "\n",
        "      #Flip Bit\n",
        "      if row['Stance'] == 0:\n",
        "        data.at[index, 'Stance'] = 1\n",
        "      else:\n",
        "        data.at[index, 'Stance'] = 0"
      ],
      "metadata": {
        "colab": {
          "base_uri": "https://localhost:8080/"
        },
        "id": "558KzJgdaCqH",
        "outputId": "6d779c91-0b3d-455d-d1ca-d27e133e3f7a"
      },
      "execution_count": null,
      "outputs": [
        {
          "output_type": "stream",
          "name": "stdout",
          "text": [
            "1    3012\n",
            "0    2972\n",
            "Name: Stance, dtype: int64\n"
          ]
        }
      ]
    },
    {
      "cell_type": "code",
      "source": [
        "maxLength = 0\n",
        "maxString = \"\"\n",
        "for string in data['Query']:\n",
        "  if(len(string) > maxLength):\n",
        "    maxLength = len(string)\n",
        "    maxString = string\n",
        "print(maxLength)\n",
        "print(string)"
      ],
      "metadata": {
        "colab": {
          "base_uri": "https://localhost:8080/"
        },
        "id": "sWu0ZQdkgNaa",
        "outputId": "cf6b6378-1d93-4116-c2a6-7da6d1007ba8"
      },
      "execution_count": null,
      "outputs": [
        {
          "output_type": "stream",
          "name": "stdout",
          "text": [
            "3097\n",
            " In the same way that we have learned about injury prevention and safety, we need performance drugs exposed to the hot light of public scrutiny. We need to legitimize their use. With a more realistic view of our elite athletes, parents and kids can make more informed choices about their extracurricular activities.  The technology exists to test for levels of most of the substances on the 'banned drugs' lists. What if we declared that certain levels of them in the body were acceptable, while excessive amounts would result in penalties? Athletes could satisfy their drive to be faster and stronger. Drugs could move from the black market to the legitimate sports-medicine community. Athletes could stop experimenting on themselves. It would be safer to take the substances, and with medical monitoring, there would be fewer negative side effects... Track gets faster, nutrition gets more specific and training techniques improve.\n"
          ]
        }
      ]
    },
    {
      "cell_type": "code",
      "source": [
        "# Save the Modified Dataset to Drive\n",
        "data.to_csv('/content/drive/My Drive/CSE 573: Stance Detection /Datasets/Testing/procon_final.csv', index=False)"
      ],
      "metadata": {
        "id": "jGl7EO_MAZ2Y"
      },
      "execution_count": null,
      "outputs": []
    }
  ]
}